{
 "cells": [
  {
   "cell_type": "markdown",
   "metadata": {},
   "source": [
    "# Section 2"
   ]
  },
  {
   "cell_type": "markdown",
   "metadata": {},
   "source": [
    "## Stange's order finding algorithm"
   ]
  },
  {
   "cell_type": "code",
   "execution_count": null,
   "metadata": {},
   "outputs": [],
   "source": [
    "import numpy as np\n",
    "def Stange_method(n,g,b,c=10):    \n",
    "\n",
    "    #-------------------phase 1: Relation finding------------------------- \n",
    "    counter= 0               \n",
    "    rand_x=[]                          \n",
    "    FT=matrix(b,b+c,sparse=True) \n",
    "\n",
    "    while counter<b+c :\n",
    "        x=randint(1,n)\n",
    "        while x in rand_x:\n",
    "            x=randint(1,n)\n",
    "        residue = ZZ(Mod(g,n)^x)\n",
    "        f=smoothness(residue,b)\n",
    "        #------------------------------Append the vector if the relationship is found---------------------\n",
    "        if f:\n",
    "            f=vector(f)\n",
    "            rand_x.append(x)\n",
    "            FT[:,counter]=f\n",
    "            counter+=1\n",
    "    #------------------------------phase 2: Linear Algebra---------------------------------------\n",
    "\n",
    "    kernel_basis=FT.right_kernel().basis()[:c] # obtain the basis\n",
    "    \n",
    "    #----------------------phase 3: GCD computation----------------------------\n",
    "\n",
    "    alpha=[]\n",
    "    for base_vec in kernel_basis:\n",
    "        alp=np.dot(base_vec,rand_x) \n",
    "        alpha.append(alp)  #list of all the alphas\n",
    "\n",
    "    order=Integer(gcd(alpha)) \n",
    "    return order\n",
    "\n",
    "def smoothness(residue,b):\n",
    "    f=[]\n",
    "    p=2 \n",
    "    i=0\n",
    "    while residue!=1 and i<b:\n",
    "        exponent=0\n",
    "        while p.divides(residue):\n",
    "            residue=residue/p           \n",
    "            exponent+=1\n",
    "        f.append(exponent)\n",
    "        p=next_prime(p)\n",
    "        i+=1\n",
    "    g=False\n",
    "    if residue==1:\n",
    "        g=vector(ZZ,b)\n",
    "        g[:len(f)]=f\n",
    "    return g\n",
    "\n",
    "\n",
    "\n",
    "n=765\n",
    "g=11\n",
    "b=10\n",
    "if gcd(g,n)==1:\n",
    "    print(\"Computed order of\",g,\"mod\",n,\"is\",Stange_method(n,g,b,c=10))\n",
    "    print(\"Correct order is\",Mod(g,n).multiplicative_order())"
   ]
  },
  {
   "cell_type": "markdown",
   "metadata": {},
   "source": [
    "# Section 3"
   ]
  },
  {
   "cell_type": "markdown",
   "metadata": {},
   "source": [
    "## Computation of $b_n$"
   ]
  },
  {
   "cell_type": "code",
   "execution_count": null,
   "metadata": {},
   "outputs": [],
   "source": [
    "\n",
    "def opt_b(n):\n",
    "    C_n=sqrt(2 /  ( ln(n) * ln(ln(n)) )  )\n",
    "    return ceil(C_n*exp(1/C_n))\n"
   ]
  },
  {
   "cell_type": "markdown",
   "metadata": {},
   "source": [
    "## Testing over b"
   ]
  },
  {
   "cell_type": "code",
   "execution_count": null,
   "metadata": {},
   "outputs": [],
   "source": [
    "from time import time\n",
    "import numpy as np\n",
    "import matplotlib.pyplot as plt\n",
    "\n",
    "def test_optimal_b(n,g,bounds,y=5):\n",
    "    times=[]\n",
    "    for b in range(bounds[0],bounds[1]):\n",
    "        summ=0\n",
    "        for i in range(y):\n",
    "            tock=time()\n",
    "            Stange_method(n,g,b)\n",
    "            tick=time()\n",
    "            summ+=tick-tock\n",
    "        summ/=5\n",
    "        times.append(summ)\n",
    "    return range(bounds[0],bounds[1]),times\n"
   ]
  },
  {
   "cell_type": "code",
   "execution_count": null,
   "metadata": {
    "scrolled": true
   },
   "outputs": [],
   "source": [
    "Integers=[537, 765, 8585, 19053, 61453, 101371, 199989, 247251, 484957, 671015, 871933, 907423, 1744953, 1946725, 2177645, 2381625, 3632763, 5001635, 7865455, 22653803]\n",
    "\n",
    "for h in Integers:\n",
    "    b=opt_b(h)\n",
    "    if b>15:\n",
    "        bounds=[8,50]\n",
    "    else:\n",
    "        bounds=[2,50]\n",
    "    g=randint(2,h-1)\n",
    "    while gcd(g,h)!=1:\n",
    "        g=randint(2,h-2)\n",
    "        \n",
    "    res1,res2=test_optimal_b(h,g,bounds,5) \n",
    "    \n",
    "    plt.plot(res1,res2)\n",
    "    plt.title(f'running time for n={h} as b varies')\n",
    "    plt.plot(opt_b(h),res2[opt_b(h)-bounds[0]],'x',label=\"b_n\")\n",
    "    plt.legend()\n",
    "    plt.show()\n",
    "   \n",
    "print(\"Done\")"
   ]
  },
  {
   "cell_type": "markdown",
   "metadata": {},
   "source": [
    "## Linear Sieve Method"
   ]
  },
  {
   "cell_type": "code",
   "execution_count": 33,
   "metadata": {},
   "outputs": [],
   "source": [
    "import numpy as np\n",
    "\n",
    "def smoothness_LSM(residue,factorbase):\n",
    "    f=[]\n",
    "    i=0\n",
    "    p=0\n",
    "    while residue!=1 and i<len(factorbase):\n",
    "        exponent=0\n",
    "        p=ZZ(factorbase[i])\n",
    "        while p.divides(residue):\n",
    "            residue=residue/p           \n",
    "            exponent+=1\n",
    "        f.append(exponent)\n",
    "        i+=1\n",
    "    g=False\n",
    "    if residue==1:\n",
    "        g=vector(ZZ,len(factorbase))\n",
    "        g[:len(f)]=f\n",
    "    return g\n",
    "\n",
    "\n",
    "\n",
    "def linear_sieve(n, s):\n",
    "    #------------- set up various constants---------------------------\n",
    "    L=[]\n",
    "    H=ceil(sqrt(n))\n",
    "    J=H^2-n\n",
    "\n",
    "    M=ceil( exp( (0.5+s)*sqrt( ln(n)*ln(ln(n)) ) )/2 )\n",
    "    \n",
    "    B=exp(0.5*sqrt( ln(n)*ln(ln(n)) )  ) \n",
    "    Bi=ceil(B)\n",
    "\n",
    "    Range=[c for c in range(-M,M+1)] \n",
    "    factorbase=[p for p in primes(Bi)]\n",
    "    #--------------- for each fixed c_1, use a linear sieve------------------\n",
    "    for i in range(2*M+1):  #c_1  \n",
    "        c_1=Range[i]\n",
    "        U=np.zeros_like(Range)  \n",
    "        if Mod(H+c_1,n)!=0 and Mod(J+c_1*H,n)!=0:\n",
    "            for p in primes(Bi):\n",
    "    #------------- for each prime p, check wether p divides H_c_1 or not----------\n",
    "\n",
    "                    if not p.divides(H+c_1):\n",
    "                        d=-Mod(J+c_1*H,p)* ( Mod(H+c_1,p)^(-1) )\n",
    "                        for j in range(i,2*M+1):  #c_2\n",
    "                            if Mod(Range[j],p)==d:\n",
    "                                U[j]+=log(p,2)\n",
    "\n",
    "                    else: \n",
    "                        h_1=0\n",
    "                        res=ZZ(Mod(H+c_1,n))\n",
    "                        while p.divides(res):\n",
    "                            h_1+=1\n",
    "                            res/=p\n",
    "                            \n",
    "                            \n",
    "                        h_2=0\n",
    "                        res=ZZ(Mod(J+c_1*H,n))\n",
    "                        while p.divides(res):\n",
    "                            h_2+=1\n",
    "                            res/=p\n",
    "\n",
    "                        for j in range(i,2*M+1): #c_2\n",
    "                            U[j]+=min(h_1,h_2)*log(p,2)\n",
    "        \n",
    "    \n",
    "        for j in range(i,2*M+1):\n",
    "            res=ZZ(Mod((H+c_1)*(H+Range[j]),n))\n",
    "            if abs(U[j]-log(res,2))<=2.5 and res!=0 and gcd(res,n)==1 :\n",
    "                    L.append([H+c_1, H+Range[j] ])\n",
    "    return L, list(set(factorbase))"
   ]
  },
  {
   "cell_type": "code",
   "execution_count": 34,
   "metadata": {},
   "outputs": [],
   "source": [
    "def Stange_kernel(n,s):   \n",
    "    #-------- obtain relations-------------------------------\n",
    "    List,factorbase=linear_sieve(n,s) \n",
    "#     print(\"Sieve Part Done\")\n",
    "    #-------------------- form matrix B--------------------------------\n",
    "    F=[]\n",
    "    rand_x=[]\n",
    "    H_list=[]\n",
    "    D=[]\n",
    "    for L in List:\n",
    "        f=smoothness_LSM(Mod(L[0]*L[1],n),factorbase)\n",
    "        if f:      \n",
    "            if L[0] not in H_list:\n",
    "                H_list.append(L[0])\n",
    "            if L[1] not in H_list:\n",
    "                H_list.append(L[1])\n",
    "            d=[0] * len(H_list)\n",
    "            \n",
    "\n",
    "            if L[0]==L[1]:\n",
    "                d[H_list.index(L[0])]=-2\n",
    "            else:\n",
    "                d[H_list.index(L[0])]=-1\n",
    "                d[H_list.index(L[1])]=-1\n",
    "            F.append(vector(ZZ,f))\n",
    "            D.append(d)\n",
    "\n",
    "    for d in D:\n",
    "        d.extend([0] * (len(H_list) - len(d)))\n",
    "\n",
    "    DT=matrix(ZZ,D).T\n",
    "    FT=matrix(ZZ,F).T\n",
    "    Block=FT.stack(DT)\n",
    "    print(\"B^T rank and dimensions\",Block.rank(),Block.dimensions())\n",
    "    Ext_List=factorbase+H_list\n",
    "#     print(\"Matrix Creation Part Done\")\n",
    "    K_len=Block.right_nullity()\n",
    "    print(\"nullity of M:\",K_len)\n",
    "    if K_len<1:            \n",
    "            print(\"Restart with larger s\")\n",
    "    else:\n",
    "    #------------------ check wether ker(B^T)=kern(B^s^T) for each s in S-------------------\n",
    "        d=Block.dimensions()[0]\n",
    "        for i in range(d):\n",
    "            Ind=[ x for x in range(d)]\n",
    "            Ind.remove(i)\n",
    "            K_i=Block.matrix_from_rows(Ind).right_kernel().basis()\n",
    "            K_i_len=len(K_i)\n",
    "    #         print(\"index\",i,\"dim(K_i)=\",K_i_len)\n",
    "            if K_i_len!=K_len:\n",
    "                print(\"index\",i,\" gives matrix M_i with null(M_i)>null(M), it corresponds to the residue\",Mod(Ext_List[i],n))\n",
    "                if Mod(Ext_List[i],n)!=n-1 and Mod(Ext_List[i],n)!=1:\n",
    "                    rand_x=vector(-Block[i,:].T)   \n",
    "                    alpha=[]\n",
    "                    for base_vec in K_i:\n",
    "                        alp=np.dot(base_vec,rand_x)\n",
    "                        alpha.append(alp)\n",
    "                    order=Integer(gcd(alpha)) \n",
    "                    return order, Mod(Ext_List[i],n)\n",
    "    return \"No order computed\", \"No order of residue found\""
   ]
  },
  {
   "cell_type": "code",
   "execution_count": 35,
   "metadata": {},
   "outputs": [
    {
     "name": "stdout",
     "output_type": "stream",
     "text": [
      "10001\n",
      "B^T rank and dimensions 66 (96, 110)\n",
      "nullity of M: 44\n",
      "index 5  gives matrix M_i with null(M_i)>null(M), it corresponds to the residue 10000\n",
      "index 14  gives matrix M_i with null(M_i)>null(M), it corresponds to the residue 1\n",
      "DONE\n"
     ]
    }
   ],
   "source": [
    "n=10001\n",
    "\n",
    "print(n)\n",
    "s=0.7\n",
    "order,res=Stange_kernel(n,s)\n",
    "if (order,res)!= (\"No order computed\", \"No order of residue found\"):\n",
    "    print(\"computed order\",order,\"of residue\",res,\"mod\",n)\n",
    "    print(\"actual order\",Mod(res,n).multiplicative_order())\n",
    "print(\"DONE\")"
   ]
  },
  {
   "cell_type": "code",
   "execution_count": null,
   "metadata": {},
   "outputs": [],
   "source": [
    "for n in [231, 235]:\n",
    "        print(n,\"=\", n.factor())          \n",
    "        s=1\n",
    "        order,res=Stange_kernel(n,s)\n",
    "        if (order,res)!= (\"No order computed\", \"No order of residue found\"):\n",
    "            print(\"computed order\",order,\"of residue\",res,\"mod\",n)\n",
    "            print(\"actual order\",Mod(res,n).multiplicative_order())\n",
    "        print(\"DONE\")\n",
    "        print()"
   ]
  },
  {
   "cell_type": "markdown",
   "metadata": {},
   "source": [
    "# Section 5"
   ]
  },
  {
   "cell_type": "markdown",
   "metadata": {},
   "source": [
    "## Shor's Reduction"
   ]
  },
  {
   "cell_type": "code",
   "execution_count": null,
   "metadata": {},
   "outputs": [],
   "source": [
    "def Shor(n,b,c=10):\n",
    "    for g in range(2,n-1):\n",
    "        if gcd(g,n)!=1:\n",
    "            return gcd(g,n),n/gcd(g,n)\n",
    "        order=Stange_method(n,g,b,c)\n",
    "        if order%2==0 and ZZ(Mod(g^(order/2),n))!=n-1:\n",
    "                return gcd(g^(order/2)-1,n),n/gcd(g^(order/2)-1,n)\n"
   ]
  },
  {
   "cell_type": "markdown",
   "metadata": {},
   "source": [
    "## Ekerå's Reduction"
   ]
  },
  {
   "cell_type": "code",
   "execution_count": null,
   "metadata": {
    "scrolled": true
   },
   "outputs": [],
   "source": [
    "def eta(q,B):\n",
    "    i=1\n",
    "    while q^i<=B:\n",
    "        i+=1\n",
    "    return i-1\n",
    "\n",
    "\n",
    "def Ekera(n,b,c=10):\n",
    "    g=randint(2,n-1)\n",
    "    if gcd(g,n)!=1:\n",
    "        return gcd(g,n),n/gcd(g,n)\n",
    "    order=Stange_method(n,g,b,c)\n",
    "    m=2*n.nbits()\n",
    "    prod=1\n",
    "    for p in prime_range(m):\n",
    "        q=eta(p,m)\n",
    "        prod*=p^q\n",
    "        \n",
    "    R=order*prod\n",
    "    twopower=(int(R.binary(),2) & (~(int( (R- 1).binary() ,2)) ) )\n",
    "    z=R/twopower\n",
    "    \n",
    "    for x in range(2,n-1):\n",
    "        if gcd(x,n)!=1:\n",
    "            return gcd(x,n),n/gcd(x,n)\n",
    "        xz=ZZ(Mod(x,n)^z)\n",
    "        d=gcd(ZZ(Mod(xz-1,n)),n)\n",
    "        if d!=1:\n",
    "            return d,n/d\n",
    "        i=0\n",
    "        while i<log(twopower,2) and xz!=1:\n",
    "            xz=ZZ(Mod(xz,n)^2)\n",
    "            d=gcd(xz-1,n)\n",
    "            if d!=1 and d!=n:\n",
    "                return d,n/d\n",
    "            i+=1\n",
    "            "
   ]
  },
  {
   "cell_type": "markdown",
   "metadata": {},
   "source": [
    "## Comparison between two reductions"
   ]
  },
  {
   "cell_type": "code",
   "execution_count": null,
   "metadata": {},
   "outputs": [],
   "source": [
    "from time import time\n",
    "import numpy as np\n",
    "import matplotlib.pyplot as plt\n",
    "\n",
    "def running_time(f,n,b,c=10,y=50):\n",
    "    summ=0\n",
    "    for i in range(y):\n",
    "        tock=time()\n",
    "        fact1,fact2=f(n,b,c)\n",
    "        if not fact1*fact2==n: \n",
    "            print(\"Error\",n,b)\n",
    "            break\n",
    "        tick=time()\n",
    "        summ+=tick-tock\n",
    "    summ/=y\n",
    "    return summ\n",
    "\n",
    "\n"
   ]
  },
  {
   "cell_type": "code",
   "execution_count": null,
   "metadata": {
    "scrolled": true
   },
   "outputs": [],
   "source": [
    "axis1=[]\n",
    "axis2=[]\n",
    "for n in Integers:\n",
    "    b=opt_b(n)\n",
    "    time1=running_time(Shor,n,b)\n",
    "    axis1.append(time1)\n",
    "    time2=running_time(Ekera,n,b)\n",
    "    axis2.append(time2)\n",
    "    \n",
    "\n",
    "plt.plot(Integers,axis1,label=\"Shor's Reduction\")\n",
    "plt.plot(Integers,axis2,label=\"Ekerå's Reduction\")\n",
    "plt.legend()\n",
    "plt.show()"
   ]
  },
  {
   "cell_type": "markdown",
   "metadata": {},
   "source": [
    "# Section 6"
   ]
  },
  {
   "cell_type": "markdown",
   "metadata": {},
   "source": [
    "## Single Kernel Method"
   ]
  },
  {
   "cell_type": "code",
   "execution_count": null,
   "metadata": {},
   "outputs": [],
   "source": [
    "import numpy as np\n",
    "\n",
    "def SK_method(n,g,b):\n",
    "    order=0\n",
    "    while order==0:\n",
    "        #-------------------phase 1: Relation finding------------------------- \n",
    "        rank=0\n",
    "        rand_x=[]                          \n",
    "        F=[]   # relation Matrix\n",
    "\n",
    "        while rank==0 :\n",
    "            x=randint(1,n-1)\n",
    "            while x in rand_x:\n",
    "                x=randint(1,n-1)\n",
    "\n",
    "            residue = ZZ(Mod(g,n)^x)\n",
    "            f=smoothness(residue,b)\n",
    "\n",
    "            #------------------------------Append the vector if the relationship is found---------------------\n",
    "            if f:\n",
    "                rand_x.append(x)\n",
    "                F.append(f)  \n",
    "\n",
    "                #--------------- Periodically compute kernel----------------------------\n",
    "\n",
    "                rank=matrix(F,sparse=True).transpose().right_kernel().rank()\n",
    "\n",
    "        kernel_basis=matrix(F).transpose().right_kernel().basis()\n",
    "        [order]=abs(np.dot(kernel_basis,rand_x))\n",
    "    return ZZ(order)\n"
   ]
  },
  {
   "cell_type": "markdown",
   "metadata": {},
   "source": [
    "## Compare between Stange and SK Alg."
   ]
  },
  {
   "cell_type": "code",
   "execution_count": null,
   "metadata": {},
   "outputs": [],
   "source": [
    "def order_running_time(f,n,g,b,y=50):\n",
    "    summ=0\n",
    "    for i in range(y):\n",
    "        tock=time()\n",
    "        order=f(n,g,b)\n",
    "        tick=time()\n",
    "        summ+=tick-tock\n",
    "    summ/=y\n",
    "    return summ"
   ]
  },
  {
   "cell_type": "code",
   "execution_count": null,
   "metadata": {
    "scrolled": true
   },
   "outputs": [],
   "source": [
    "from time import time\n",
    "import numpy as np\n",
    "import matplotlib.pyplot as plt\n",
    "\n",
    "\n",
    "axis1=[]\n",
    "axis2=[]\n",
    "Integers=[537, 765, 8585, 19053, 61453, 101371, 199989, 247251, 484957, 671015, 871933, 907423, 1744953, 1946725, 2177645, 2381625, 3632763, 5001635, 7865455, 22653803]\n",
    "for n in Integers:\n",
    "    b=opt_b(n)\n",
    "    g=randint(2,n-1)\n",
    "    while gcd(g,n)!=1:\n",
    "        g=randint(2,n-1)\n",
    "    time1=order_running_time(Stange_method,n,g,b,y=10)\n",
    "    axis1.append(time1)\n",
    "    time2=order_running_time(SK_method,n,g,b,y=10)\n",
    "    axis2.append(time2)\n",
    "\n",
    "plt.plot(Integers,axis1,label=\"Stange\")\n",
    "plt.plot(Integers,axis2,label=\"SK method\")\n",
    "plt.legend()\n",
    "plt.show()"
   ]
  },
  {
   "cell_type": "markdown",
   "metadata": {},
   "source": [
    "## Shor's Reduction using SK Alg."
   ]
  },
  {
   "cell_type": "code",
   "execution_count": null,
   "metadata": {},
   "outputs": [],
   "source": [
    "def Shor_SK(n,b):\n",
    "    for g in range(2,n-1):\n",
    "        if gcd(g,n)!=1:\n",
    "            return gcd(g,n),n/gcd(g,n)\n",
    "        order=SK_method(n,g,b)\n",
    "        while order==0:\n",
    "            order=SK_method(n,g,b)\n",
    "            \n",
    "        if order%2==0:\n",
    "            M=ZZ(Mod(g^order,n))\n",
    "            while M==1:\n",
    "                order/=2\n",
    "                M=ZZ(Mod(g^order,n))            \n",
    "            if M!=n-1 and M!=1:\n",
    "                return gcd(M-1,n) , n/gcd(M-1,n)\n",
    "                "
   ]
  },
  {
   "cell_type": "markdown",
   "metadata": {},
   "source": [
    "## Ekerå's Reduction using SK Alg."
   ]
  },
  {
   "cell_type": "code",
   "execution_count": null,
   "metadata": {},
   "outputs": [],
   "source": [
    "def Ekera_SK(n,b):\n",
    "    g=randint(2,n-1)\n",
    "    if gcd(g,n)!=1:\n",
    "        return gcd(g,n),n/gcd(g,n)\n",
    "    R=SK_method(n,g,b)\n",
    "    twopower=(int(R.binary(),2) & (~(int( (R- 1).binary() ,2)) ) )\n",
    "    z=R/twopower\n",
    "    \n",
    "    for x in range(2,n-1):\n",
    "        if gcd(x,n)!=1:\n",
    "            return gcd(x,n),n/gcd(x,n)\n",
    "        b=ZZ(Mod(x,n)^z)\n",
    "        \n",
    "        d=gcd(ZZ(Mod(b-1,n)),n)\n",
    "        if d!=1:\n",
    "            return d,n/d\n",
    "        i=0\n",
    "        while i<log(twopower,2) and b!=1:\n",
    "            b=ZZ(Mod(b,n)^2)\n",
    "            d=gcd(b-1,n)\n",
    "            if d!=1 and d!=n:\n",
    "                return d,n/d\n",
    "            i+=1"
   ]
  },
  {
   "cell_type": "markdown",
   "metadata": {},
   "source": [
    "## Comparisons"
   ]
  },
  {
   "cell_type": "code",
   "execution_count": null,
   "metadata": {},
   "outputs": [],
   "source": [
    "from time import time\n",
    "import numpy as np\n",
    "import matplotlib.pyplot as plt\n",
    "\n",
    "\n",
    "def running_time(f,n,b,y=50):\n",
    "    summ=0\n",
    "    for i in range(y):\n",
    "        tock=time()\n",
    "        fact1,fact2=f(n,b)\n",
    "        if not fact1*fact2==n: \n",
    "            break\n",
    "        tick=time()\n",
    "        summ+=tick-tock\n",
    "    summ/=y\n",
    "    return summ\n"
   ]
  },
  {
   "cell_type": "code",
   "execution_count": null,
   "metadata": {},
   "outputs": [],
   "source": [
    "axis1=[]\n",
    "axis2=[]\n",
    "axis3=[]\n",
    "axis4=[]\n",
    "\n",
    "\n",
    "for n in Integers:\n",
    "    b=opt_b(n)\n",
    "    time1=running_time(Shor_SK,n,b)\n",
    "    axis1.append(time1)\n",
    "    time2=running_time(Ekera_SK,n,b)\n",
    "    axis2.append(time2)\n",
    "    time3=running_time(Shor,n,b)\n",
    "    axis3.append(time3)\n",
    "    time4=running_time(Ekera,n,b)\n",
    "    axis4.append(time4)\n",
    "\n",
    "plt.plot(Integers,axis3,label=\"Shor's Reduction\")\n",
    "plt.plot(Integers,axis1,label=\"Shor's Reduction using SK Alg\")\n",
    "plt.legend()\n",
    "plt.show()\n",
    "\n",
    "plt.plot(Integers,axis4,label=\"Ekerå's Reduction\")\n",
    "plt.plot(Integers,axis2,label=\"Ekerå's Reduction using SK Alg\")\n",
    "plt.legend()\n",
    "plt.show()\n"
   ]
  },
  {
   "cell_type": "markdown",
   "metadata": {},
   "source": [
    "## Shor's Reduction using Prop. 9"
   ]
  },
  {
   "cell_type": "code",
   "execution_count": null,
   "metadata": {},
   "outputs": [],
   "source": [
    "def Shor_Oddorder(n,b,c=10):\n",
    "    for p in [2,3,5]:\n",
    "        if p.divides(n):\n",
    "            return p,n/p\n",
    "    for g in range(2,n-1):\n",
    "        if gcd(g,n)!=1:\n",
    "            return gcd(g,n),n/gcd(g,n)\n",
    "        order=Stange_method(n,g,b,c)\n",
    "        if order%2==0 and ZZ(Mod(g^(order/2),n))!=n-1:\n",
    "                return gcd(g^(order/2)-1,n),n/gcd(g^(order/2)-1,n)\n",
    "        if order%3==0 and ZZ(Mod(g^(order/3),n))!=n-1:\n",
    "                return gcd(g^(order/3)-1,n),n/gcd(g^(order/3)-1,n)\n",
    "        if order%5==0 and ZZ(Mod(g^(order/5),n))!=n-1:\n",
    "                return gcd(g^(order/5)-1,n),n/gcd(g^(order/5)-1,n)\n"
   ]
  },
  {
   "cell_type": "markdown",
   "metadata": {},
   "source": [
    "### Comparison"
   ]
  },
  {
   "cell_type": "code",
   "execution_count": null,
   "metadata": {},
   "outputs": [],
   "source": [
    "Integers=[537, 765, 8585, 19053, 61453, 101371, 199989, 247251, 484957, 671015, 871933, 907423, 1744953, 1946725, 2177645, 2381625, 3632763, 5001635, 7865455, 22653803]\n",
    "SOM=[86129, 112157, 187493, 802879, 1438051, 1553143, 2444393, 6044779, 33713471, 49010591]\n",
    "\n",
    "\n",
    "axis1=[]\n",
    "axis2=[]\n",
    "i=0\n",
    "for n in Integers:\n",
    "    i+=1\n",
    "    b=opt_b(n)\n",
    "    time1=running_time(Shor,n,b)\n",
    "    axis1.append(time1)\n",
    "    time2=running_time(Shor_Oddorder,n,b)\n",
    "    axis2.append(time2)\n",
    "\n",
    "plt.plot(Integers,axis1,label=\"Shor's Reduction\")\n",
    "plt.plot(Integers,axis2,label=\"Shor's Reduction using odd oders\")\n",
    "plt.legend()\n",
    "plt.show()\n",
    "\n",
    "axis1=[]\n",
    "axis2=[]\n",
    "i=0\n",
    "for n in SOM:\n",
    "    i+=1\n",
    "    b=opt_b(n)\n",
    "    time1=running_time(Shor,n,b)\n",
    "    axis1.append(time1)\n",
    "    time2=running_time(Shor_Oddorder,n,b)\n",
    "    axis2.append(time2)\n",
    "\n",
    "    \n",
    "plt.plot(SOM,axis1,label=\"Shor's Reduction\")\n",
    "plt.plot(SOM,axis2,label=\"Shor's Reduction using odd oders\")\n",
    "plt.legend()\n",
    "plt.show()"
   ]
  },
  {
   "cell_type": "markdown",
   "metadata": {},
   "source": [
    "## Jacobi Symbol Method"
   ]
  },
  {
   "cell_type": "markdown",
   "metadata": {},
   "source": [
    "### Shor's Reduction with Jacobi Symbol"
   ]
  },
  {
   "cell_type": "code",
   "execution_count": null,
   "metadata": {},
   "outputs": [],
   "source": [
    "def Shor_Jac(n,b,c=10):\n",
    "    for g in range(2,n-1):\n",
    "        if gcd(g,n)!=1:\n",
    "            return gcd(g,n),n/gcd(g,n)\n",
    "\n",
    "        if kronecker_symbol(g,n)==-1:\n",
    "        \n",
    "            order=Stange_method(n,g,b,c)\n",
    "            if order%2==0 and ZZ(Mod(g^(order/2),n))!=n-1:\n",
    "                    return gcd(g^(order/2)-1,n),n/gcd(g^(order/2)-1,n)\n"
   ]
  },
  {
   "cell_type": "markdown",
   "metadata": {},
   "source": [
    "### Ekerå's Reduction with Jacobi Symbol"
   ]
  },
  {
   "cell_type": "code",
   "execution_count": null,
   "metadata": {},
   "outputs": [],
   "source": [
    "def Ekera_Jac(n,b,c=10):\n",
    "    g=randint(2,n-1)\n",
    "    if gcd(g,n)!=1:\n",
    "        return gcd(g,n),n/gcd(g,n)\n",
    "    \n",
    "    order=Stange_method(n,g,b,c)\n",
    "    m=2*n.nbits()\n",
    "    prod=1\n",
    "    for p in prime_range(m):\n",
    "        q=eta(p,m)\n",
    "        prod*=p^q\n",
    "        \n",
    "    R=order*prod\n",
    "    twopower=(int(R.binary(),2) & (~(int( (R- 1).binary() ,2)) ) )\n",
    "    z=R/twopower\n",
    "\n",
    "    for x in range(2,n-1):\n",
    "        if gcd(x,n)!=1:\n",
    "            return gcd(x,n),n/gcd(x,n)\n",
    "        if kronecker_symbol(g,n)==-1:\n",
    "            b=ZZ(Mod(x,n)^z)\n",
    "\n",
    "            d=gcd(ZZ(Mod(b-1,n)),n)\n",
    "            if d!=1:\n",
    "                return d,n/d\n",
    "            i=0\n",
    "            while i<log(twopower,2) and b!=1:\n",
    "                b=ZZ(Mod(b,n)^2)\n",
    "                d=gcd(b-1,n)\n",
    "                if d!=1 and d!=n:\n",
    "                    return d,n/d\n",
    "                i+=1\n",
    "                \n"
   ]
  },
  {
   "cell_type": "markdown",
   "metadata": {},
   "source": [
    "### Comparison"
   ]
  },
  {
   "cell_type": "code",
   "execution_count": null,
   "metadata": {},
   "outputs": [],
   "source": [
    "Integers=[537, 765, 8585, 19053, 61453, 101371, 199989, 247251, 484957, 671015, 871933, 907423, 1744953, 1946725, 2177645, 2381625, 3632763, 5001635, 7865455, 22653803]\n",
    "\n",
    "\n",
    "axis1=[]\n",
    "axis2=[]\n",
    "axis3=[]\n",
    "axis4=[]\n",
    "for n in Integers:\n",
    "    b=opt_b(n)\n",
    "    time1=running_time(Shor,n,b)\n",
    "    axis1.append(time1)\n",
    "    time2=running_time(Shor_Jac,n,b)\n",
    "    axis2.append(time2)\n",
    "    time3=running_time(Ekera,n,b)\n",
    "    axis3.append(time3)\n",
    "    time4=running_time(Ekera_Jac,n,b)\n",
    "    axis4.append(time4)\n",
    "    \n",
    "plt.plot(Integers,axis1,label=\"Shor's Reduction\")\n",
    "plt.plot(Integers,axis2,label=\"Shor's Reduction using Jacobi symbol\")\n",
    "plt.legend()\n",
    "plt.show()\n",
    "\n",
    "\n",
    "\n",
    "plt.plot(Integers,axis3,label=\"Ekerå's Reduction\")\n",
    "plt.plot(Integers,axis4,label=\"Ekerå's Reduction using Jacobi symbol\")\n",
    "plt.legend()\n",
    "plt.show()"
   ]
  }
 ],
 "metadata": {
  "kernelspec": {
   "display_name": "SageMath 9.3",
   "language": "sage",
   "name": "sagemath"
  },
  "language_info": {
   "codemirror_mode": {
    "name": "ipython",
    "version": 3
   },
   "file_extension": ".py",
   "mimetype": "text/x-python",
   "name": "python",
   "nbconvert_exporter": "python",
   "pygments_lexer": "ipython3",
   "version": "3.7.10"
  }
 },
 "nbformat": 4,
 "nbformat_minor": 4
}

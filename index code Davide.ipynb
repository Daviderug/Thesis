{
 "cells": [
  {
   "cell_type": "markdown",
   "metadata": {},
   "source": [
    "# Stange's code"
   ]
  },
  {
   "cell_type": "code",
   "execution_count": 16,
   "metadata": {},
   "outputs": [],
   "source": [
    "#########################################\n",
    "# Toy implementation of factoring algorithm (Algorithm 2.2) in \n",
    "# \"Factoring using multiplicative relations modulo n:\n",
    "#      a subexponential factoring algorithm inspired by the index calculus\n",
    "# by Katherine E. Stange\n",
    "#########################################\n",
    "\n",
    "def get_order(n, g, B=10, rels=10, verbose=True, alphas=False, texify=False):\n",
    "    # INPUT:\n",
    "    # n = modulus\n",
    "    # g = base\n",
    "    # B = bound for primes\n",
    "    # rels = number of additional relations\n",
    "    # verbose = whether to print info as you go\n",
    "    # alphas = whether to return the alpha values\n",
    "    # textify = whether to print latex for algorithm\n",
    "    # OUTPUT:  order of g modulo n (with high probability)\n",
    "    \n",
    "    # Set up factor base\n",
    "    if verbose:\n",
    "        print(\"Attempting to compute the order of \", g, \"modulo\", n)\n",
    "    numPrimes = prime_pi(B)  # the number of primes <= B\n",
    "    if verbose:\n",
    "        print(\"The number of primes in the factor base:\", numPrimes)\n",
    "        print(\"These are:\", [nth_prime(m) for m in range(1, numPrimes+1)])\n",
    "    \n",
    "    # Set the number of relations to find\n",
    "    relsDesired = numPrimes + rels  # the number of relations to find\n",
    "    if verbose:\n",
    "        print(\"We are looking for \", relsDesired, \"relations.\")\n",
    "    vectors = []  # to store the relations we find\n",
    "        \n",
    "    # Main relation finding loop\n",
    "    searchCount = 0 # number of smoothness tests run\n",
    "    relsFound = 0 # number of relations found\n",
    "    while( relsFound < relsDesired ):\n",
    "        \n",
    "        # take a random power of x\n",
    "        \n",
    "        x = randint(1,n)        \n",
    "        residue = ZZ(Mod(g,n)^x)\n",
    "        \n",
    "        # trial division to test smoothness\n",
    "        fac = [0 for _ in range(B+1)]\n",
    "        for p in primes(B):\n",
    "            while Mod(residue,p) == 0:\n",
    "                residue = residue/p\n",
    "                fac[p] += 1\n",
    "        if residue == 1:  # store a relation if smooth\n",
    "            if verbose:\n",
    "                print(\"found a relation:\", g, \"^\", x, \"is\", factor(ZZ(Mod(g,n)^x)))\n",
    "            if texify:\n",
    "                print(g,\"^{\",x,\"}&=\",latex(factor(ZZ(Mod(g,n)^x))),\",\\\\\\\\\")\n",
    "            vec = vector([fac[nth_prime(m)] for m in range(1,numPrimes+1)])\n",
    "            vectors.append([vec,x])\n",
    "            relsFound += 1\n",
    "            \n",
    "        searchCount += 1\n",
    "        \n",
    "    if verbose:\n",
    "        print(\"I searched through \", searchCount, \"powers of \", g)\n",
    "        \n",
    "    # Linear algebra phase\n",
    "    relMatrix = matrix([vectors[i][0] for i in range(relsDesired)]).transpose()\n",
    "    if verbose:\n",
    "        print(\"The relation matrix is (cols are relations):\")\n",
    "        print(relMatrix)\n",
    "    \n",
    "    if texify:\n",
    "        print(latex(relMatrix))\n",
    "    kernel = relMatrix.right_kernel().basis()\n",
    "        \n",
    "    if verbose:\n",
    "        print(\"The right kernel has basis:\")\n",
    "        print(kernel)\n",
    "    if texify:\n",
    "        print(latex(matrix(kernel)))\n",
    "    alphaVals = []\n",
    "    for basisVec in kernel:\n",
    "        alpha = sum([basisVec[i]*vectors[i][1] for i in range(relsDesired)])\n",
    "        alphaVals.append(alpha)\n",
    "    if verbose:\n",
    "        print(\"The corresponding sums of the x's are:\")\n",
    "        print(alphaVals)\n",
    "    if texify:\n",
    "        print(latex(alphaVals))\n",
    "        \n",
    "    # GCD phase\n",
    "    finalGCD = 0\n",
    "    for alpha in alphaVals:\n",
    "        finalGCD = gcd(finalGCD,alpha)\n",
    "        \n",
    "    # Report and return\n",
    "    if verbose:\n",
    "        print(\"Their gcd is:\", finalGCD)\n",
    "        print(\"******* Relation to reality? ******\")\n",
    "        print(\"Sage's factorization of\", n, \"is\", factor(n))\n",
    "        print(\"The actual multiplicative order is:\", Mod(g,n).multiplicative_order())\n",
    "        if Mod(g,n).multiplicative_order() == finalGCD:\n",
    "            print(\"Success!\")\n",
    "        else:\n",
    "            print(\"Failure!\")\n",
    "            print(\"The ratio of the expected value to the real value is (1=success):\", finalGCD/Mod(g,n).multiplicative_order())\n",
    "    if alphas:\n",
    "        return(finalGCD,[a/finalGCD for a in alphaVals])\n",
    "    return(finalGCD)\n",
    "    "
   ]
  },
  {
   "cell_type": "code",
   "execution_count": 17,
   "metadata": {},
   "outputs": [
    {
     "data": {
      "text/plain": [
       "(30, [488, 25, 396, 179, 473, 401, 796, 342, 178, 545, 276, 364, 447])"
      ]
     },
     "execution_count": 17,
     "metadata": {},
     "output_type": "execute_result"
    }
   ],
   "source": [
    "n=20191\n",
    "g=4\n",
    "B=10\n",
    "c=10\n",
    "\n",
    "get_order(n, g, B, c, verbose=False, alphas=True)"
   ]
  },
  {
   "cell_type": "markdown",
   "metadata": {},
   "source": [
    "# My code"
   ]
  },
  {
   "cell_type": "code",
   "execution_count": 110,
   "metadata": {},
   "outputs": [],
   "source": [
    "import numpy as np\n",
    "def factorisation_problem(n,g,B=10,c=10):    \n",
    "    # n = composite modulus\n",
    "    # g = base g<n\n",
    "    # B = bound for primes\n",
    "    # c = number of additional relations\n",
    "    # multp = integer used to compute non trivial factors\n",
    "    # OUTPUT:  factors of n\n",
    "    \n",
    "    if gcd(g,n)!=1:      # g must be a unit for the algoritmh to make sense     # write about this\n",
    "        factor1=gcd(g,n)\n",
    "        print(f\"{g} is a unit modulus {n}. This means that gcd({g},{n}) is a nontrivial factor of {n}: gcd({g},{n}):\",gcd(g,n))\n",
    "        factor2=n/gcd(g,n)\n",
    "        print(f\"{n}={factor1}*{factor2}\")\n",
    "        return (factor1,factor2)\n",
    "    \n",
    "    numb_primes=prime_pi(B) # number of primes below B    \n",
    "\n",
    "    #-------------------phase 1: Relation finding------------------------- \n",
    "    relsFound = 0               # number of relations found\n",
    "    relsDesired=numb_primes+c   # number of relations desired\n",
    "    rand_x=[]                             # x vector\n",
    "    F=matrix(numb_primes,numb_primes+c)   # relation Matrix\n",
    "#     print(f\"{relsFound}/{relsDesired} relations found\")\n",
    "    while( relsFound < relsDesired ):\n",
    "        \n",
    "        x = randint(1,n)\n",
    "\n",
    "        residue = ZZ(Mod(g,n)^x)\n",
    "        f=[]\n",
    "\n",
    "        #-------------------Attempt factorisation of g^x------------------------------\n",
    "        for p in primes(B):\n",
    "            exponent=0\n",
    "            while Mod(residue,p)==0:\n",
    "                residue=residue/p           \n",
    "                exponent+=1\n",
    "            f.append(exponent)\n",
    "\n",
    "        #------------------------------Append the vector if it is B-smooth---------------------\n",
    "        if residue==1:\n",
    "            f=vector(f)\n",
    "            rand_x.append(x)\n",
    "            F[:,relsFound]=f\n",
    "            relsFound+=1\n",
    "#             print(f\"{relsFound}/{relsDesired} relations found\")\n",
    "\n",
    "    \n",
    "    #------------------------------phase 2: Linear Algebra---------------------------------------\n",
    " \n",
    "    kernel_basis=F.right_kernel().basis() # obtain the basis\n",
    "    \n",
    "        #-----------------------Find alphas--------------------------------\n",
    "    alpha=[]\n",
    "    for base_vec in kernel_basis:\n",
    "        alp=np.dot(base_vec,rand_x)  \n",
    "        alpha.append(alp)  #list of all the alphas\n",
    "    #----------------------phase 3: Computing order of g mod n----------------------------\n",
    "    \n",
    "#     print(f\"the alphas are {alpha}\")\n",
    "    order=Integer(gcd(alpha)) # probabilistic \n",
    "    print(f\"the order is {order}\")\n",
    "    if order==n-1:\n",
    "        print(f\"{n} is prime since there exist {g} mod {n} such that the order of {g} is {n-1}\") # write about this\n",
    "        return n,1  \n",
    "    \n",
    "    print(f\"the value of {g}^{order} mod {n} is\",Mod(g^order,n))\n",
    "    if Mod(g^order,n)!=1:\n",
    "        print(\"Error: the order is incorrect\")\n",
    "        return \"Error\"\n",
    "    #---------------------------------------Factorising n------------------------------------\n",
    "    \n",
    "    # this is to be proved to work for any order r st p|r\n",
    "    # we know it works for Shor's algorithm so you can prob extend the proof\n",
    "#     m=multp*order #find highest power of 2 that divides 'multp' \n",
    "#     exponent=0\n",
    "    for p in primes(B):      # could instead make a recursion here to get the prime divisors of order\n",
    "        if order%p==0 and g^(order/p)+1%n!=0:  # the second case gives a trivial factorisation\n",
    "            factor1=gcd(g^(order/p)+1,n)                 # prove this whole thing\n",
    "\n",
    "            if factor1==1 or factor1==n:\n",
    "                print(p)\n",
    "                factor1=gcd(g^(order/p)-1,n)            # doesnt always work\n",
    "            factor2=n/factor1\n",
    "            print(f\"the factors of {n} are {factor1} and {factor2}: {factor1*factor2}={factor1}*{factor2}\")  \n",
    "            return factor1,factor2,order\n"
   ]
  },
  {
   "cell_type": "code",
   "execution_count": 100,
   "metadata": {},
   "outputs": [
    {
     "name": "stdout",
     "output_type": "stream",
     "text": [
      "11 is a unit modulus 781. This means that gcd(11,781) is a nontrivial factor of 781: gcd(11,781): 11\n",
      "781=11*71\n"
     ]
    },
    {
     "data": {
      "text/plain": [
       "(11, 71)"
      ]
     },
     "execution_count": 100,
     "metadata": {},
     "output_type": "execute_result"
    }
   ],
   "source": [
    "n=781\n",
    "g=11\n",
    "B=10\n",
    "\n",
    "factorisation_problem(n,g,B)   # add some failsafes and test for bunch of numbers\n"
   ]
  },
  {
   "cell_type": "code",
   "execution_count": 101,
   "metadata": {},
   "outputs": [
    {
     "name": "stdout",
     "output_type": "stream",
     "text": [
      "the order is 6778\n",
      "6779 is prime since there exist 11 mod 6779 such that the order of 11 is 6778\n",
      "the order is 3390\n",
      "the value of 11^3390 mod 6781 is 1\n",
      "the factors of 6781 are 6781 and 1: 6781=6781*1\n",
      "the order is 6790\n",
      "6791 is prime since there exist 11 mod 6791 such that the order of 11 is 6790\n",
      "the order is 5482\n",
      "5483 is prime since there exist 11 mod 5483 such that the order of 11 is 5482\n",
      "the order is 2750\n",
      "the value of 11^2750 mod 5501 is 1\n",
      "the factors of 5501 are 5501 and 1: 5501=5501*1\n",
      "the order is 5502\n",
      "5503 is prime since there exist 11 mod 5503 such that the order of 11 is 5502\n",
      "the order is 2753\n",
      "the value of 11^2753 mod 5507 is 1\n",
      "the order is 7852\n",
      "7853 is prime since there exist 11 mod 7853 such that the order of 11 is 7852\n",
      "the order is 3933\n",
      "the value of 11^3933 mod 7867 is 1\n",
      "the factors of 7867 are 1 and 7867: 7867=1*7867\n",
      "the order is 2624\n",
      "the value of 11^2624 mod 7873 is 1\n",
      "the factors of 7873 are 7873 and 1: 7873=7873*1\n"
     ]
    }
   ],
   "source": [
    "#test for large primes\n",
    "    \n",
    "g=11\n",
    "B=10    \n",
    "for n in [6779,6781,6791,5483,5501 ,5503 ,5507,7853,7867,7873]:\n",
    "    factorisation_problem(n,g,B)    # this may outut 1*n if n is prime\n",
    "# figure out what happens in this case\n"
   ]
  },
  {
   "cell_type": "code",
   "execution_count": 111,
   "metadata": {},
   "outputs": [
    {
     "name": "stdout",
     "output_type": "stream",
     "text": [
      "the order is 4247705\n",
      "the value of 2^4247705 mod 152942113 is 1\n",
      "5\n",
      "the factors of 152942113 are 12343 and 12391: 152942113=12343*12391\n"
     ]
    },
    {
     "data": {
      "text/plain": [
       "(12343, 12391, 4247705)"
      ]
     },
     "execution_count": 111,
     "metadata": {},
     "output_type": "execute_result"
    }
   ],
   "source": [
    "# test for odd order\n",
    "\n",
    "# 64 mod 283 has order 47\n",
    "# 47 is prime so can't quite do much with that \n",
    "\n",
    "# 2 mod 152942113 has order 4247705 \n",
    "\n",
    "n=152942113\n",
    "g=2\n",
    "factorisation_problem(n,g)"
   ]
  }
 ],
 "metadata": {
  "kernelspec": {
   "display_name": "SageMath 9.3",
   "language": "sage",
   "name": "sagemath"
  },
  "language_info": {
   "codemirror_mode": {
    "name": "ipython",
    "version": 3
   },
   "file_extension": ".py",
   "mimetype": "text/x-python",
   "name": "python",
   "nbconvert_exporter": "python",
   "pygments_lexer": "ipython3",
   "version": "3.7.10"
  }
 },
 "nbformat": 4,
 "nbformat_minor": 4
}

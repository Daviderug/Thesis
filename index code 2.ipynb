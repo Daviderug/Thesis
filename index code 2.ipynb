{
 "cells": [
  {
   "cell_type": "markdown",
   "metadata": {},
   "source": [
    "# Section 2"
   ]
  },
  {
   "cell_type": "markdown",
   "metadata": {},
   "source": [
    "## Stange algorithm"
   ]
  },
  {
   "cell_type": "code",
   "execution_count": 4,
   "metadata": {},
   "outputs": [],
   "source": [
    "def smoothness(residue,b):\n",
    "    f=[]\n",
    "    p=2 \n",
    "    i=0\n",
    "    while residue!=1 and i<b:\n",
    "        exponent=0\n",
    "        while p.divides(residue):\n",
    "            residue=residue/p           \n",
    "            exponent+=1\n",
    "        f.append(exponent)\n",
    "        p=next_prime(p)\n",
    "        i+=1\n",
    "    g=False\n",
    "    if residue==1:\n",
    "        g=vector(ZZ,b)\n",
    "        g[:len(f)]=f\n",
    "    return g,residue\n",
    "\n",
    "\n",
    "# %load_ext line_profiler\n",
    "# %lprun -f smoothness  smoothness(n,b)\n",
    "# %timeit SK_method(n,g,b)    \n",
    "# %load_ext line_profiler"
   ]
  },
  {
   "cell_type": "code",
   "execution_count": 5,
   "metadata": {},
   "outputs": [],
   "source": [
    "import numpy as np\n",
    "def Stange_method(n,g,b=10,c=10,keepFT=False):    \n",
    "    # n = composite modulus\n",
    "    # g = base g<n\n",
    "    # b = size of factor base\n",
    "    # c = number of additional relations\n",
    "    # OUTPUT:  order of g mod n\n",
    "    \n",
    "    #-------------------phase 1: Relation finding------------------------- \n",
    "    counter= 0               # number of relations found\n",
    "    rand_x=[]                          \n",
    "    FT=matrix(b,b+c,sparse=True)   # relation Matrix           \n",
    "    while counter<b+c :\n",
    "        \n",
    "        x=randint(1,n)\n",
    "        while x in rand_x:\n",
    "            x=randint(1,n)\n",
    "        \n",
    "        residue = ZZ(Mod(g,n)^x)\n",
    "        \n",
    "        f,residue=smoothness(residue,b)\n",
    "        #------------------------------Append the vector if the relationship is found---------------------\n",
    "        if residue==1:\n",
    "#             print(g,\"^{\",x,\"}&=\",latex(factor(ZZ(Mod(g,n)^x))),\",\\\\\\\\\")\n",
    "            f=vector(f)\n",
    "            rand_x.append(x)\n",
    "            FT[:,counter]=f\n",
    "            counter+=1\n",
    "    #------------------------------phase 2: Linear Algebra---------------------------------------\n",
    "#     print(latex(FT))\n",
    "    kernel_basis=FT.right_kernel().basis()[:c] # obtain the basis\n",
    "#     print(latex(matrix(kernel_basis)))\n",
    "    \n",
    "        #-----------------------Find alphas--------------------------------\n",
    "    alpha=[]\n",
    "    for base_vec in kernel_basis:\n",
    "        alp=np.dot(base_vec,rand_x) \n",
    "        alpha.append(alp)  #list of all the alphas\n",
    "        \n",
    "        \n",
    "    #----------------------phase 3: Computing order of g mod n----------------------------\n",
    "#     print(latex(alpha))\n",
    "    order=Integer(gcd(alpha)) \n",
    "    \n",
    "    if keepFT:\n",
    "        return order,FT,rand_x\n",
    "    return order"
   ]
  },
  {
   "cell_type": "markdown",
   "metadata": {},
   "source": [
    "## Optimal b testing"
   ]
  },
  {
   "cell_type": "code",
   "execution_count": 6,
   "metadata": {},
   "outputs": [],
   "source": [
    "from time import time\n",
    "import numpy as np\n",
    "import matplotlib.pyplot as plt\n",
    "\n",
    "\n",
    "\n",
    "def test_optimal_b(n,g,bounds,y=5):\n",
    "    times=[]\n",
    "    for b in range(bounds[0],bounds[1]):\n",
    "        summ=0\n",
    "        for i in range(y):\n",
    "            tock=time()\n",
    "            Stange_method(n,g,b)\n",
    "            tick=time()\n",
    "            summ+=tick-tock\n",
    "        summ/=5\n",
    "        times.append(summ)\n",
    "    return range(bounds[0],bounds[1]),times\n",
    "\n",
    "\n",
    "def opt_b(n):\n",
    "    C_n=sqrt(2 /  ( ln(n) * ln(ln(n)) )  )\n",
    "    return ceil(C_n*exp(1/C_n))\n",
    "\n",
    "opt_b(537)\n",
    "\n",
    "\n",
    "Integers=[537, 765, 8585, 19053, 61453, 101371, 199989, 247251, 484957, 671015, 871933, 907423, 1744953, 1946725, 2177645, 2381625, 3632763, 5001635, 7865455, 22653803]\n",
    "# print(Int)\n"
   ]
  },
  {
   "cell_type": "code",
   "execution_count": 7,
   "metadata": {
    "scrolled": false
   },
   "outputs": [],
   "source": [
    "bounds=[1,50]\n",
    "Integers=[537, 765, 8585, 19053, 61453, 101371, 199989, 247251, 484957, 671015, 871933, 907423, 1744953, 1946725, 2177645, 2381625, 3632763, 5001635, 7865455, 22653803]\n",
    "# Integers=[537, 765, 8585, 19053, 61453, 101371, 199989, 871933, 2381625, 22653803]\n",
    "\n",
    "\n",
    "# for h in Integers:\n",
    "#     print(opt_b(h))\n",
    "#     if opt_b(h)>15:\n",
    "#         bounds=[8,50]\n",
    "#     else: bounds=[1,50]\n",
    "#     g=randint(2,h-1)\n",
    "#     while gcd(g,h)!=1:\n",
    "#         g=randint(2,h-2)\n",
    "# #     print(g,\"g\")\n",
    "#     res1,res2=test_optimal_b(h,g,bounds,5) \n",
    "    \n",
    "#     plt.plot(res1,res2)\n",
    "#     plt.title(f'running time for n={h} as b varies')\n",
    "#     plt.plot(opt_b(h),res2[opt_b(h)-bounds[0]],'x',label=\"theoretical approximation of the optimal value of b\")\n",
    "#     plt.legend()\n",
    "#     plt.show()\n",
    "\n",
    "    \n",
    "# print(\"Done\")"
   ]
  },
  {
   "cell_type": "markdown",
   "metadata": {},
   "source": [
    "# Section 4"
   ]
  },
  {
   "cell_type": "markdown",
   "metadata": {},
   "source": [
    "## Method 1"
   ]
  },
  {
   "cell_type": "code",
   "execution_count": 8,
   "metadata": {},
   "outputs": [],
   "source": [
    "def Method_1(n,b=10,c=10,keepFT=False):\n",
    "    for g in range(2,n-1):\n",
    "        if gcd(g,n)!=1:\n",
    "            return gcd(g,n),n/gcd(g,n)\n",
    "        order=Stange_method(n,g,b,c,keepFT)\n",
    "        if order%2==0 and ZZ(Mod(g^(order/2),n))!=n-1:\n",
    "                return gcd(g^(order/2)-1,n),n/gcd(g^(order/2)-1,n)\n",
    "\n",
    "    \n"
   ]
  },
  {
   "cell_type": "markdown",
   "metadata": {},
   "source": [
    "## Method 2"
   ]
  },
  {
   "cell_type": "code",
   "execution_count": 9,
   "metadata": {},
   "outputs": [],
   "source": [
    "def eta(q,B):\n",
    "    i=1\n",
    "    while q^i<=B:\n",
    "        i+=1\n",
    "    return i-1\n",
    "\n",
    "\n",
    "def Method_2(n,b=10,c=10,keepFT=False):\n",
    "    g=randint(2,n-1)\n",
    "    if gcd(g,n)!=1:\n",
    "        return gcd(g,n),n/gcd(g,n)\n",
    "    \n",
    "    order=Stange_method(n,g,b,c,keepFT)\n",
    "    m=2*n.nbits()\n",
    "    prod=1\n",
    "    for p in prime_range(m):\n",
    "        q=eta(p,m)\n",
    "        prod*=p^q\n",
    "    R=order*prod\n",
    "    twopower=(int(R.binary(),2) & (~(int( (R- 1).binary() ,2)) ) )\n",
    "    z=R/twopower\n",
    "    \n",
    "    for x in range(2,n-1):\n",
    "        if gcd(x,n)!=1:\n",
    "            return gcd(x,n),n/gcd(x,n)\n",
    "        b=ZZ(Mod(x,n)^z)\n",
    "        \n",
    "        d=gcd(ZZ(Mod(b-1,n)),n)\n",
    "        if d!=1:\n",
    "            return d,n/d\n",
    "        i=0\n",
    "        while i<log(twopower,2) and b!=1:\n",
    "            b=ZZ(Mod(b,n)^2)\n",
    "            d=gcd(b-1,n)\n",
    "            if d!=1 and d!=n:\n",
    "                return d,n/d\n",
    "            i+=1\n",
    "            "
   ]
  },
  {
   "cell_type": "markdown",
   "metadata": {},
   "source": [
    "## Comparison between two methods"
   ]
  },
  {
   "cell_type": "code",
   "execution_count": 10,
   "metadata": {},
   "outputs": [],
   "source": [
    "from time import time\n",
    "import numpy as np\n",
    "import matplotlib.pyplot as plt\n",
    "\n",
    "def running_time(f,n,b=10,c=10,keepFT=False,y=50):\n",
    "    summ=0\n",
    "    for i in range(y):\n",
    "        tock=time()\n",
    "        fact1,fact2=f(n,b,c,keepFT)\n",
    "        if not fact1*fact2==n: \n",
    "            print(\"Error\",n,b)\n",
    "            break\n",
    "        tick=time()\n",
    "        summ+=tick-tock\n",
    "    summ/=y\n",
    "    return summ\n",
    "\n",
    "# print(Integers)\n",
    "\n",
    "\n"
   ]
  },
  {
   "cell_type": "code",
   "execution_count": 11,
   "metadata": {},
   "outputs": [],
   "source": [
    "# axis1=[]\n",
    "# axis2=[]\n",
    "# for n in Integers:\n",
    "#     print(\"n=\",n)\n",
    "#     b=opt_b(n)\n",
    "#     time1=running_time(Method_1,n,b)\n",
    "#     axis1.append(time1)\n",
    "#     print(\"First done\")\n",
    "#     time2=running_time(Method_2,n,b)\n",
    "#     axis2.append(time2)\n",
    "#     print(\"Second done\")\n",
    "# plt.plot(Integers,axis1,label=\"Method 1\")\n",
    "# plt.plot(Integers,axis2,label=\"Method 2\")\n",
    "# plt.legend()\n",
    "# plt.show()"
   ]
  },
  {
   "cell_type": "code",
   "execution_count": 12,
   "metadata": {},
   "outputs": [],
   "source": [
    "# plt.plot(Integers,axis1,label=\"Method 1\")\n",
    "# plt.legend();plt.show()\n",
    "# plt.plot(Integers,axis2,color=\"orange\",label=\"Method 2\")\n",
    "# plt.legend();plt.show()\n",
    "\n",
    "\n",
    "# y=10\n",
    "# for i in range(20/y):\n",
    "#     plt.plot(Integers[i*y:(i+1)*y],axis1[i*y:(i+1)*y],label=\"Method 1\")\n",
    "#     plt.plot(Integers[i*y:(i+1)*y],axis2[i*y:(i+1)*y],label=\"Method 2\")\n",
    "#     plt.legend()\n",
    "#     plt.show()"
   ]
  },
  {
   "cell_type": "markdown",
   "metadata": {},
   "source": [
    "# Section 5"
   ]
  },
  {
   "cell_type": "markdown",
   "metadata": {},
   "source": [
    "## Single Kernel Method"
   ]
  },
  {
   "cell_type": "code",
   "execution_count": 13,
   "metadata": {},
   "outputs": [],
   "source": [
    "import numpy as np\n",
    "\n",
    "def SK_method(n,g,b=10):    \n",
    "    # n = composite modulus\n",
    "    # g = base g<n\n",
    "    # b = size of factor base\n",
    "    # OUTPUT:  factors of n\n",
    "    \n",
    "    #-------------------phase 1: Relation finding------------------------- \n",
    "    rank=0\n",
    "    rand_x=[]                          \n",
    "    F=[]   # relation Matrix\n",
    "\n",
    "    while rank==0 :\n",
    "        x=randint(1,n-1)\n",
    "        while x in rand_x:\n",
    "            x=randint(1,n-1)\n",
    "        \n",
    "        residue = ZZ(Mod(g,n)^x)\n",
    "        f,residue=smoothness(residue,b)\n",
    "\n",
    "        #------------------------------Append the vector if the relationship is found---------------------\n",
    "        if residue==1:\n",
    "#              print(g,\"^{\",x,\"}&=\",latex(factor(ZZ(Mod(g,n)^x))),\",\\\\\\\\\")\n",
    "            rand_x.append(x)\n",
    "            F.append(f)  \n",
    "\n",
    "            #--------------- Periodically compute kernel----------------------------\n",
    "\n",
    "            rank=matrix(F,sparse=True).transpose().right_kernel().rank()\n",
    "\n",
    "    kernel_basis=matrix(F).transpose().right_kernel().basis()\n",
    "    [order]=abs(np.dot(kernel_basis,rand_x))\n",
    "    return ZZ(order)"
   ]
  },
  {
   "cell_type": "markdown",
   "metadata": {},
   "source": [
    "## Method 1.1"
   ]
  },
  {
   "cell_type": "code",
   "execution_count": 14,
   "metadata": {},
   "outputs": [],
   "source": [
    "def Method_1_1(n,b=10,keepFT=False):\n",
    "    for g in range(2,n-1):\n",
    "        if gcd(g,n)!=1:\n",
    "            return gcd(g,n),n/gcd(g,n)\n",
    "        b=opt_b(n)\n",
    "        order=SK_method(n,g,b)\n",
    "        while order==0:\n",
    "            order=SK_method(n,g,b)\n",
    "            \n",
    "        if order%2==0:\n",
    "            while M==1:\n",
    "                order/=2\n",
    "                M=ZZ(Mod(g^order,n))            \n",
    "            if M!=n-1 and M!=1:\n",
    "                return gcd(M-1,n) , n/gcd(M-1,n)\n",
    "                "
   ]
  },
  {
   "cell_type": "markdown",
   "metadata": {},
   "source": [
    "## Method 2.1"
   ]
  },
  {
   "cell_type": "code",
   "execution_count": 15,
   "metadata": {},
   "outputs": [],
   "source": [
    "def Method_2_1(n,b=10,c=10,keepFT=False):\n",
    "    g=randint(2,n-1)\n",
    "    if gcd(g,n)!=1:\n",
    "        return gcd(g,n),n/gcd(g,n)\n",
    "    \n",
    "    b=opt_b(n)\n",
    "    R=SK_method(n,g,b)\n",
    "    twopower=(int(R.binary(),2) & (~(int( (R- 1).binary() ,2)) ) )\n",
    "    if twopower!=0:\n",
    "        z=R/twopower\n",
    "    else: z=R\n",
    "\n",
    "    for x in range(2,n-1):\n",
    "        if gcd(x,n)!=1:\n",
    "            return gcd(x,n),n/gcd(x,n)\n",
    "        b=ZZ(Mod(x,n)^z)\n",
    "        \n",
    "        d=gcd(ZZ(Mod(b-1,n)),n)\n",
    "        if d!=1:\n",
    "            return d,n/d\n",
    "        i=0\n",
    "        while i<log(twopower,2) and b!=1:\n",
    "            b=ZZ(Mod(b,n)^2)\n",
    "            d=gcd(b-1,n)\n",
    "            if d!=1 and d!=n:\n",
    "                return d,n/d\n",
    "            i+=1"
   ]
  },
  {
   "cell_type": "markdown",
   "metadata": {},
   "source": [
    "## Compare order vs SK"
   ]
  },
  {
   "cell_type": "code",
   "execution_count": 16,
   "metadata": {},
   "outputs": [],
   "source": [
    "def order_running_time(f,n,g,b=10,y=50):\n",
    "    summ=0\n",
    "    for i in range(y):\n",
    "        tock=time()\n",
    "        order=f(n,g,b)\n",
    "        tick=time()\n",
    "        summ+=tick-tock\n",
    "    summ/=y\n",
    "    return summ"
   ]
  },
  {
   "cell_type": "code",
   "execution_count": 17,
   "metadata": {},
   "outputs": [],
   "source": [
    "# axis1=[]\n",
    "# axis2=[]\n",
    "# i=0\n",
    "# for n in Integers:\n",
    "#     i+=1\n",
    "#     print(i,\"/20\")\n",
    "#     b=opt_b(n)\n",
    "#     g=randint(2,n-1)\n",
    "#     while gcd(g,n)!=1:\n",
    "#         g=randint(2,n-1)\n",
    "#     time1=order_running_time(Stange_method,n,b,y=10)\n",
    "#     axis1.append(time1)\n",
    "#     print(\"First done\")\n",
    "#     time2=order_running_time(SK_method,n,b,y=10)\n",
    "#     axis2.append(time2)\n",
    "#     print(\"Second done\")\n",
    "\n",
    "# plt.plot(Integers,axis1,label=\"Stange\")\n",
    "# plt.plot(Integers,axis2,label=\"SK_method\")\n",
    "# plt.legend()\n",
    "# plt.show()"
   ]
  },
  {
   "cell_type": "markdown",
   "metadata": {},
   "source": [
    "## Comparison between Method 1.1 and Method 2.1"
   ]
  },
  {
   "cell_type": "code",
   "execution_count": 18,
   "metadata": {},
   "outputs": [],
   "source": [
    "from time import time\n",
    "import numpy as np\n",
    "import matplotlib.pyplot as plt\n",
    "\n",
    "\n",
    "\n",
    "\n",
    "def running_time(f,n,b=10,keepFT=False,y=50):\n",
    "    summ=0\n",
    "    for i in range(y):\n",
    "        tock=time()\n",
    "        fact1,fact2=f(n,b,keepFT)\n",
    "        if not fact1*fact2==n: \n",
    "            break\n",
    "        tick=time()\n",
    "        summ+=tick-tock\n",
    "    summ/=y\n",
    "    return summ\n",
    "\n"
   ]
  },
  {
   "cell_type": "code",
   "execution_count": 19,
   "metadata": {},
   "outputs": [],
   "source": [
    "\n",
    "# axis1=[]\n",
    "# axis2=[]\n",
    "# i=0\n",
    "# for n in Integers:\n",
    "#     i+=1\n",
    "#     print(i,\"/20\")\n",
    "#     b=opt_b(n)\n",
    "#     time1=running_time(Method_1_1,n,b)\n",
    "#     axis1.append(time1)\n",
    "#     print(\"First done\")\n",
    "#     time2=running_time(Method_2_1,n,b)\n",
    "#     axis2.append(time2)\n",
    "#     print(\"Second done\")\n",
    "\n",
    "# plt.plot(Integers,axis1,label=\"Method 1.1\")\n",
    "# plt.plot(Integers,axis2,label=\"Method 2.1\")\n",
    "# plt.legend()\n",
    "# plt.show()"
   ]
  },
  {
   "cell_type": "code",
   "execution_count": 20,
   "metadata": {},
   "outputs": [
    {
     "data": {
      "image/png": "[encoded data removed]",
      "text/plain": [
       "<Figure size 432x288 with 1 Axes>"
      ]
     },
     "metadata": {
      "needs_background": "light"
     },
     "output_type": "display_data"
    },
    {
     "data": {
      "image/png": "[encoded data removed]",
      "text/plain": [
       "<Figure size 432x288 with 1 Axes>"
      ]
     },
     "metadata": {
      "needs_background": "light"
     },
     "output_type": "display_data"
    },
    {
     "data": {
      "image/png": "[encoded data removed]",
      "text/plain": [
       "<Figure size 432x288 with 1 Axes>"
      ]
     },
     "metadata": {
      "needs_background": "light"
     },
     "output_type": "display_data"
    },
    {
     "data": {
      "image/png": "[encoded data removed]",
      "text/plain": [
       "<Figure size 432x288 with 1 Axes>"
      ]
     },
     "metadata": {
      "needs_background": "light"
     },
     "output_type": "display_data"
    }
   ],
   "source": [
    "import matplotlib.pyplot as plt\n",
    "\n",
    "axis1=[0.006625533103942871, 0.0033301687240600585, 0.005606155395507812, 0.005933589935302734, 0.014932088851928711, 0.005353422164916992, 0.03095940113067627, 0.01361478328704834, 0.04821771144866943, 0.01065074920654297, 0.034699687957763674, 0.07145815849304199, 0.08052495956420898, 0.07479928970336915, 0.07287202835083008, 0.02633876323699951, 0.1531623411178589, 0.3244387149810791, 0.4454440450668335, 6.387570548057556]\n",
    "axis2=[0.005074677467346192, 0.001787104606628418, 0.005314569473266601, 0.00422727108001709, 0.014820127487182618, 0.010773801803588867, 0.01685565948486328, 0.013003802299499512, 0.030400261878967286, 0.024218358993530274, 0.027966699600219726, 0.037648520469665527, 0.03747704982757569, 0.047498040199279785, 0.04976957321166992, 0.019881691932678223, 0.05252223968505859, 0.06800042629241944, 0.10267131328582764,0.18651556491851806]\n",
    "\n",
    "plt.plot(Integers,axis1,label=\"Alg. 5\")\n",
    "# plt.legend();\n",
    "plt.show()\n",
    "plt.plot(Integers,axis2,color=\"orange\",label=\"Alg. 6\")\n",
    "# plt.legend();\n",
    "plt.show()\n",
    "\n",
    "\n",
    "y=10\n",
    "for i in range(20/y):\n",
    "    plt.plot(Integers[i*y:(i+1)*y],axis1[i*y:(i+1)*y],label=\"Method 1\")\n",
    "    plt.plot(Integers[i*y:(i+1)*y],axis2[i*y:(i+1)*y],label=\"Method 2\")\n",
    "    plt.legend()\n",
    "    plt.show()"
   ]
  },
  {
   "cell_type": "markdown",
   "metadata": {},
   "source": [
    "## Comparison between Method 1 and Method 2.1"
   ]
  },
  {
   "cell_type": "code",
   "execution_count": 23,
   "metadata": {
    "scrolled": true
   },
   "outputs": [
    {
     "name": "stdout",
     "output_type": "stream",
     "text": [
      "1 /20\n",
      "2 /20\n",
      "3 /20\n",
      "4 /20\n",
      "5 /20\n",
      "6 /20\n",
      "7 /20\n",
      "8 /20\n",
      "9 /20\n",
      "10 /20\n",
      "11 /20\n",
      "12 /20\n",
      "13 /20\n",
      "14 /20\n",
      "15 /20\n",
      "16 /20\n",
      "17 /20\n",
      "18 /20\n",
      "19 /20\n",
      "20 /20\n"
     ]
    },
    {
     "data": {
      "image/png": "[encoded data removed]",
      "text/plain": [
       "<Figure size 432x288 with 1 Axes>"
      ]
     },
     "metadata": {
      "needs_background": "light"
     },
     "output_type": "display_data"
    }
   ],
   "source": [
    "axis1=[]\n",
    "axis2=[]\n",
    "i=0\n",
    "for n in Integers:\n",
    "    i+=1\n",
    "    print(i,\"/20\")\n",
    "    b=opt_b(n)\n",
    "    time1=running_time(Method_1,n,b)\n",
    "    axis1.append(time1)\n",
    "#     print(\"First done\")\n",
    "    time2=running_time(Method_2_1,n,b)\n",
    "    axis2.append(time2)\n",
    "#     print(\"Second done\")\n",
    "    \n",
    "    \n",
    "plt.plot(Integers,axis1,label=\"Method 1\")\n",
    "plt.plot(Integers,axis2,label=\"Alg. 5 applied to Method 2 \")\n",
    "plt.legend()\n",
    "plt.show()\n"
   ]
  },
  {
   "cell_type": "code",
   "execution_count": 22,
   "metadata": {},
   "outputs": [
    {
     "name": "stdout",
     "output_type": "stream",
     "text": [
      "13 7\n"
     ]
    }
   ],
   "source": [
    "j=0\n",
    "k=0\n",
    "for i in range(len(axis1)):\n",
    "    if axis1[i]>axis2[i]:\n",
    "        j+=1\n",
    "    else: k+=1\n",
    "print(j,k)"
   ]
  },
  {
   "cell_type": "code",
   "execution_count": null,
   "metadata": {},
   "outputs": [],
   "source": [
    "# import numpy as np\n",
    "# #Index calculus\n",
    "\n",
    "# def IC(n,g,order,y,b=10,c=10):    \n",
    "#     # n = composite modulus\n",
    "#     # g = base g<n\n",
    "#     # b = size of factor base\n",
    "#     # c = number of additional relations\n",
    "#     # OUTPUT:  factors of n\n",
    "    \n",
    "#     #-------------------phase 1: Relation finding------------------------- \n",
    "#     relsFound = 0               # number of relations found\n",
    "#     relsDesired=b+c   # number of relations desired\n",
    "#     rand_x=[]                          \n",
    "#     FT=matrix(b,b+c)   # relation Matrix\n",
    "\n",
    "#     x=0\n",
    "#     while( relsFound < relsDesired ):\n",
    "        \n",
    "#         x+=1\n",
    "        \n",
    "#         residue = ZZ(Mod(g,n)^x)\n",
    "#         f=[]\n",
    "\n",
    "#         #-------------------Attempt factorisation of g^x------------------------------\n",
    "#         for p in primes_first_n(b):\n",
    "#             exponent=0\n",
    "#             while Mod(residue,p)==0:\n",
    "#                 residue=residue/p           \n",
    "#                 exponent+=1\n",
    "#             f.append(exponent)\n",
    "#         #------------------------------Append the vector if the relationship is found---------------------\n",
    "#         if residue==1:\n",
    "# #             print(g,\"^{\",x,\"}&=\",latex(factor(ZZ(Mod(g,n)^x))),\",\\\\\\\\\")\n",
    "#             f=vector(f)\n",
    "#             rand_x.append(x)\n",
    "#             FT[:,relsFound]=f\n",
    "#             relsFound+=1\n",
    "\n",
    "#     #------------------------------phase 2: Linear Algebra---------------------------------------\n",
    "#  # solve a=Fp\n",
    "\n",
    "#     F=FT.transpose()    \n",
    "#     Fring=F.change_ring(Integers(order))\n",
    "#     randring=vector(rand_x).change_ring(Integers(order))\n",
    "#     logp=Fring\\randring     \n",
    "#     print(f\"P={logp}\")\n",
    "    \n",
    "#         #-----------------------phase 3: Find one last relation--------------------------------\n",
    "# # find relatiob yg^k=g^xg^k\n",
    "#     k=-1\n",
    "#     residue=0\n",
    "#     while residue!=1:\n",
    "#         k+=1\n",
    "#         residue=Mod(y*(g^k),n)\n",
    "#         f=[]\n",
    "#         for p in primes_first_n(b):\n",
    "#             exponent=0\n",
    "#             while Mod(residue,p)==0:\n",
    "#                 residue=residue/p           \n",
    "#                 exponent+=1\n",
    "#             f.append(exponent)\n",
    "#     print(f,k)\n",
    "#     return np.dot(logp,f)-k\n",
    "            \n",
    "\n",
    "# n=103\n",
    "# g=572\n",
    "# order=Mod(g,n).multiplicative_order()\n",
    "# print(f\"the order is {order}\")\n",
    "\n",
    "# y=572^28\n",
    "# power=IC(n,g,order,y,b=1,c=0)\n",
    "# print(f\"the log computed is {power}\")\n",
    "# print(Mod(g,n)^power==Mod(y,n))\n",
    "# # print(Mod(g,n)^power)"
   ]
  },
  {
   "cell_type": "code",
   "execution_count": null,
   "metadata": {},
   "outputs": [],
   "source": [
    "# def IC_factor_method(n,b=10,c=10):    \n",
    "#     g=2\n",
    "#     if gcd(g,n)!=1:\n",
    "#         return gcd(g,n),n/gcd(g,n)\n",
    "    \n",
    "#     (order,FT,rand_x)=Stange_method(n,g,b,c,True) \n",
    "    \n",
    "#     if order%2==0:\n",
    "#         factors=EO_method(n,g,order)\n",
    "#         if factors:\n",
    "#             return factors\n",
    "     \n",
    "#     print(order)\n",
    "#     F=FT.transpose()   \n",
    "#     Fring=F.change_ring(Integers(order))\n",
    "#     randring=vector(rand_x).change_ring(Integers(order))\n",
    "#     logp=Fring\\randring\n",
    "#     print(logp)\n",
    "#     for j in range(len(logp)):\n",
    "#         print(Mod(2^logp[j],n))\n",
    "        \n",
    "        \n",
    "#     # use logp to get new order\n",
    "#     for i in range(3,4): #----_-_-_-----_---_- change this back\n",
    "#         if gcd(i,n)!=1:\n",
    "#             return gcd(i,n),n/gcd(i,n)\n",
    "#         print(f\"i is {i}\")\n",
    "#         #-------------Find one relation------------------------\n",
    "        \n",
    "#         k=-1\n",
    "#         residue=0\n",
    "#         while residue!=1:\n",
    "#             k+=1\n",
    "#             residue=Mod(i*(g^k),n)\n",
    "#             print(residue)\n",
    "#             f=[]\n",
    "#             for p in primes_first_n(b):\n",
    "#                 exponent=0\n",
    "#                 while Mod(residue,p)==0:\n",
    "#                     residue=residue/p           \n",
    "#                     exponent+=1\n",
    "#                 f.append(exponent)\n",
    "#         print(f,residue)\n",
    "#         log_g_i=np.dot(logp,f)-k\n",
    "#         print(f\"log_g(i)={log_g_i}\")\n",
    "#         print(f\"the result is {g}^{log_g_i}={i}\",Mod(g,n)^log_g_i,i)\n",
    "#         #-------------------log_g(1)/log_g(i)=log_i(1)-----------------\n",
    "#         order1=order/log_g_i\n",
    "#         print(order1)\n",
    "        \n",
    "        \n",
    "        \n",
    "# n=4987*4993\n",
    "# n=152942113\n",
    "\n",
    "# n=105\n",
    "# f1,f2=\n",
    "# IC_factor_method(n,b=10,c=10)\n",
    "# print(f1,f2,f1*f2==n)\n",
    "\n",
    "# order=Mod(2,n).multiplicative_order()\n",
    "\n"
   ]
  },
  {
   "cell_type": "markdown",
   "metadata": {},
   "source": [
    "the method above need that 2 generates 2,3,5,7 etc so that logp makes any sense."
   ]
  },
  {
   "cell_type": "code",
   "execution_count": null,
   "metadata": {},
   "outputs": [],
   "source": [
    "\n",
    "# #Ankeny bound c=1\n",
    "\n",
    "\n",
    "# def bound(n):\n",
    "#     for i in range(1,ceil(log(n, 2)^2)):\n",
    "#         if kronecker_symbol(i,n)==-1:\n",
    "#             return i\n",
    "\n",
    "        \n",
    "# for n in prime_range(5,3000):\n",
    "#     print(bound(n))\n",
    "\n"
   ]
  }
 ],
 "metadata": {
  "kernelspec": {
   "display_name": "SageMath 9.3",
   "language": "sage",
   "name": "sagemath"
  },
  "language_info": {
   "codemirror_mode": {
    "name": "ipython",
    "version": 3
   },
   "file_extension": ".py",
   "mimetype": "text/x-python",
   "name": "python",
   "nbconvert_exporter": "python",
   "pygments_lexer": "ipython3",
   "version": "3.7.10"
  }
 },
 "nbformat": 4,
 "nbformat_minor": 4
}
